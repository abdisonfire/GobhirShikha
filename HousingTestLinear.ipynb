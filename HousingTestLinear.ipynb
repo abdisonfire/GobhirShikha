{
  "nbformat": 4,
  "nbformat_minor": 0,
  "metadata": {
    "colab": {
      "provenance": []
    },
    "kernelspec": {
      "name": "python3",
      "display_name": "Python 3"
    },
    "language_info": {
      "name": "python"
    },
    "accelerator": "GPU",
    "gpuClass": "standard"
  },
  "cells": [
    {
      "cell_type": "code",
      "execution_count": 79,
      "metadata": {
        "id": "kiaZsGXvlXzc"
      },
      "outputs": [],
      "source": [
        "import torch\n",
        "import torch.nn as nn\n",
        "import torch.optim as optim\n",
        "from sklearn.datasets import fetch_california_housing\n",
        "from sklearn.preprocessing import StandardScaler\n",
        "from sklearn.model_selection import train_test_split\n",
        "import matplotlib.pyplot as plt\n",
        "\n",
        "# Load the dataset\n",
        "housing = fetch_california_housing()\n",
        "\n",
        "# Split the data into training and testing sets\n",
        "X_train, X_test, y_train, y_test = train_test_split(housing.data, housing.target, random_state=42)\n",
        "\n"
      ]
    },
    {
      "cell_type": "code",
      "source": [
        "# Standardize the data\n",
        "scaler = StandardScaler()\n",
        "X_train = scaler.fit_transform(X_train)\n",
        "X_test = scaler.transform(X_test)\n",
        "\n",
        "# Convert the data to PyTorch tensors\n",
        "X_train = torch.from_numpy(X_train).float()\n",
        "y_train = torch.from_numpy(y_train.reshape(-1, 1)).float()\n",
        "X_test = torch.from_numpy(X_test).float()\n",
        "y_test = torch.from_numpy(y_test.reshape(-1, 1)).float()\n",
        "\n"
      ],
      "metadata": {
        "id": "m1iUIr7_q0WG"
      },
      "execution_count": 80,
      "outputs": []
    },
    {
      "cell_type": "code",
      "source": [
        "# Define the model\n",
        "class HousingModel(nn.Module):\n",
        "    def __init__(self):\n",
        "        super(HousingModel, self).__init__()\n",
        "        self.linear = nn.Linear(8, 1)\n",
        "\n",
        "    def forward(self, x):\n",
        "        out = self.linear(x)\n",
        "        return out\n",
        "\n",
        "obj = HousingModel()"
      ],
      "metadata": {
        "id": "kGhEz33cq5Vl"
      },
      "execution_count": 81,
      "outputs": []
    },
    {
      "cell_type": "code",
      "source": [
        "# Define the loss function and optimizer\n",
        "criterion = nn.MSELoss()\n",
        "optimizer = optim.SGD(obj.parameters(), lr=0.01)\n",
        "\n",
        "# Train the model\n",
        "num_epochs = 1000\n",
        "loss_avg = 0;\n",
        "losses = []\n",
        "for epoch in range(num_epochs):\n",
        "    # Forward pass\n",
        "    outputs = obj(X_train)\n",
        "    loss = criterion(outputs, y_train)\n",
        "    loss_avg += loss.item()\n",
        "    losses.append(loss.item())\n",
        "    \n",
        "    # Backward and optimize\n",
        "    optimizer.zero_grad()\n",
        "    loss.backward()\n",
        "    optimizer.step()\n",
        "\n",
        "    if (epoch+1) % 100 == 0:\n",
        "        print(f'epoch {(epoch+1)//100:2}, Loss: {(loss_avg/1000):.4f}')\n",
        "        loss_avg = 0"
      ],
      "metadata": {
        "colab": {
          "base_uri": "https://localhost:8080/"
        },
        "id": "czRI2h2-usM2",
        "outputId": "63c5d038-4793-4e62-b9cf-8e3de7fb298f"
      },
      "execution_count": 82,
      "outputs": [
        {
          "output_type": "stream",
          "name": "stdout",
          "text": [
            "epoch  1, Loss: 0.1693\n",
            "epoch  2, Loss: 0.0697\n",
            "epoch  3, Loss: 0.0635\n",
            "epoch  4, Loss: 0.0604\n",
            "epoch  5, Loss: 0.0582\n",
            "epoch  6, Loss: 0.0566\n",
            "epoch  7, Loss: 0.0554\n",
            "epoch  8, Loss: 0.0546\n",
            "epoch  9, Loss: 0.0539\n",
            "epoch 10, Loss: 0.0535\n"
          ]
        }
      ]
    },
    {
      "cell_type": "code",
      "source": [
        "plt.plot(range(1000), losses, 'b')"
      ],
      "metadata": {
        "colab": {
          "base_uri": "https://localhost:8080/",
          "height": 282
        },
        "id": "Jtu9gOSwtQ2B",
        "outputId": "85066e8c-64e6-42fd-a567-75235987bc2a"
      },
      "execution_count": 83,
      "outputs": [
        {
          "output_type": "execute_result",
          "data": {
            "text/plain": [
              "[<matplotlib.lines.Line2D at 0x7fb13f095a60>]"
            ]
          },
          "metadata": {},
          "execution_count": 83
        },
        {
          "output_type": "display_data",
          "data": {
            "text/plain": [
              "<Figure size 432x288 with 1 Axes>"
            ],
            "image/png": "[encoded data removed]"
          },
          "metadata": {
            "needs_background": "light"
          }
        }
      ]
    },
    {
      "cell_type": "code",
      "source": [
        "# Test the model\n",
        "with torch.no_grad():\n",
        "    outputs = obj(X_test)\n",
        "    loss = criterion(outputs, y_test)\n",
        "    print(f'Test Loss: {loss.item():.4f}')"
      ],
      "metadata": {
        "colab": {
          "base_uri": "https://localhost:8080/"
        },
        "id": "Nj3o2N2dq_8t",
        "outputId": "bc340789-4040-4250-86a1-32a352854473"
      },
      "execution_count": 84,
      "outputs": [
        {
          "output_type": "stream",
          "name": "stdout",
          "text": [
            "Test Loss: 0.5452\n"
          ]
        }
      ]
    }
  ]
}