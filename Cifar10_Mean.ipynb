{
  "nbformat": 4,
  "nbformat_minor": 0,
  "metadata": {
    "colab": {
      "provenance": [],
      "toc_visible": true
    },
    "kernelspec": {
      "name": "python3",
      "display_name": "Python 3"
    },
    "language_info": {
      "name": "python"
    },
    "accelerator": "GPU",
    "gpuClass": "standard"
  },
  "cells": [
    {
      "cell_type": "code",
      "execution_count": 177,
      "metadata": {
        "id": "ek751-MsKAOd"
      },
      "outputs": [],
      "source": [
        "import torch\n",
        "import torch.nn as nn\n",
        "import torch.nn.functional as F\n",
        "from sklearn.model_selection import train_test_split\n",
        "from torch.utils.data import Dataset, DataLoader\n",
        "from torchvision.utils import make_grid\n",
        "\n",
        "import torchvision\n",
        "import torchvision.datasets as datasets\n",
        "import torchvision.transforms as transforms\n",
        "import matplotlib.pyplot as plt\n",
        "\n",
        "import pandas as pd\n",
        "import numpy as np\n",
        "import seaborn as sn\n",
        "\n",
        "from sklearn.metrics import confusion_matrix"
      ]
    },
    {
      "cell_type": "code",
      "source": [
        "transform = transforms.ToTensor()"
      ],
      "metadata": {
        "id": "F5s38sFWM0S5"
      },
      "execution_count": 178,
      "outputs": []
    },
    {
      "cell_type": "code",
      "source": [
        "train_data = datasets.CIFAR10(root='./data', train=True, transform=transform, download=True)"
      ],
      "metadata": {
        "colab": {
          "base_uri": "https://localhost:8080/"
        },
        "id": "66KSt9wYM3m2",
        "outputId": "f9a51d8b-d829-4c11-dc03-0b7a60626946"
      },
      "execution_count": 179,
      "outputs": [
        {
          "output_type": "stream",
          "name": "stdout",
          "text": [
            "Files already downloaded and verified\n"
          ]
        }
      ]
    },
    {
      "cell_type": "code",
      "source": [
        "test_data = datasets.CIFAR10(root='./data', train=False, transform=transform, download=True)"
      ],
      "metadata": {
        "colab": {
          "base_uri": "https://localhost:8080/"
        },
        "id": "-ulcGAGyNQp5",
        "outputId": "79b42394-d0b7-4e09-b656-8e6679f07d7f"
      },
      "execution_count": 180,
      "outputs": [
        {
          "output_type": "stream",
          "name": "stdout",
          "text": [
            "Files already downloaded and verified\n"
          ]
        }
      ]
    },
    {
      "cell_type": "code",
      "source": [
        "train_data"
      ],
      "metadata": {
        "colab": {
          "base_uri": "https://localhost:8080/"
        },
        "id": "nGnA26LHNdCZ",
        "outputId": "9a41101a-4202-4220-83e3-5742e4988c28"
      },
      "execution_count": 181,
      "outputs": [
        {
          "output_type": "execute_result",
          "data": {
            "text/plain": [
              "Dataset CIFAR10\n",
              "    Number of datapoints: 50000\n",
              "    Root location: ./data\n",
              "    Split: Train\n",
              "    StandardTransform\n",
              "Transform: ToTensor()"
            ]
          },
          "metadata": {},
          "execution_count": 181
        }
      ]
    },
    {
      "cell_type": "code",
      "source": [
        "test_data"
      ],
      "metadata": {
        "colab": {
          "base_uri": "https://localhost:8080/"
        },
        "id": "wjBFL0X_NeXr",
        "outputId": "d5521208-dd33-4ce3-915e-9538d866b58e"
      },
      "execution_count": 182,
      "outputs": [
        {
          "output_type": "execute_result",
          "data": {
            "text/plain": [
              "Dataset CIFAR10\n",
              "    Number of datapoints: 10000\n",
              "    Root location: ./data\n",
              "    Split: Test\n",
              "    StandardTransform\n",
              "Transform: ToTensor()"
            ]
          },
          "metadata": {},
          "execution_count": 182
        }
      ]
    },
    {
      "cell_type": "code",
      "source": [
        "torch.manual_seed(101)"
      ],
      "metadata": {
        "colab": {
          "base_uri": "https://localhost:8080/"
        },
        "id": "CtMXUNEqNfpR",
        "outputId": "6754df4c-5f87-441c-d0c4-ecb0084eeb89"
      },
      "execution_count": 183,
      "outputs": [
        {
          "output_type": "execute_result",
          "data": {
            "text/plain": [
              "<torch._C.Generator at 0x7f9922be7e10>"
            ]
          },
          "metadata": {},
          "execution_count": 183
        }
      ]
    },
    {
      "cell_type": "code",
      "source": [
        "train_loader = DataLoader(train_data, batch_size=10, shuffle=True)\n",
        "test_loader = DataLoader(test_data, batch_size=10, shuffle=False)"
      ],
      "metadata": {
        "id": "5qZ80MtYNkXf"
      },
      "execution_count": 184,
      "outputs": []
    },
    {
      "cell_type": "markdown",
      "source": [
        "# Relu"
      ],
      "metadata": {
        "id": "EtnPkTFimObo"
      }
    },
    {
      "cell_type": "code",
      "source": [
        "class CNN_Relu(nn.Module):\n",
        "    def __init__(self):\n",
        "        super().__init__()\n",
        "        self.conv1 = nn.Conv2d(3, 6, 3, 1) \n",
        "        self.conv2 = nn.Conv2d(6, 16, 3, 1)\n",
        "        self.fc1 = nn.Linear(6*6*16, 120)  \n",
        "        self.fc2 = nn.Linear(120,84)\n",
        "        self.fc3 = nn.Linear(84,10)\n",
        "\n",
        "    def forward(self, X):\n",
        "        X = F.relu(self.conv1(X))\n",
        "        X = F.max_pool2d(X, 2, 2)\n",
        "        X = F.relu(self.conv2(X))\n",
        "        X = F.max_pool2d(X, 2, 2)\n",
        "        X = X.view(-1, 6*6*16)\n",
        "        X = F.relu(self.fc1(X))\n",
        "        X = F.relu(self.fc2(X))\n",
        "        X = self.fc3(X)\n",
        "        return F.log_softmax(X, dim=1)"
      ],
      "metadata": {
        "id": "4kCjGtLJPwIu"
      },
      "execution_count": 186,
      "outputs": []
    },
    {
      "cell_type": "code",
      "source": [
        "torch.manual_seed(101)\n",
        "relu_model = CNN_Relu()"
      ],
      "metadata": {
        "id": "lmyFgNPbRmcR"
      },
      "execution_count": 187,
      "outputs": []
    },
    {
      "cell_type": "code",
      "source": [
        "criterion = nn.CrossEntropyLoss()\n",
        "optimizer = torch.optim.Adam(relu_model.parameters(), lr=0.001)"
      ],
      "metadata": {
        "id": "d_3bu8BKSHaH"
      },
      "execution_count": 188,
      "outputs": []
    },
    {
      "cell_type": "code",
      "source": [
        "import time\n",
        "start_time = time.time()\n",
        "\n",
        "epochs = 10\n",
        "train_losses = []\n",
        "test_losses = []\n",
        "train_correct = []\n",
        "test_correct = []\n",
        "\n",
        "for i in range(epochs):\n",
        "    trn_corr = 0\n",
        "    tst_corr = 0\n",
        "    \n",
        "    # Run the training batches\n",
        "    for b, (X_train, y_train) in enumerate(train_loader):\n",
        "        b+=1\n",
        "        \n",
        "        # Apply the model\n",
        "        y_pred = relu_model.forward(X_train)\n",
        "        loss = criterion(y_pred, y_train)\n",
        " \n",
        "        # Tally the number of correct predictions\n",
        "        predicted = torch.max(y_pred.data, 1)[1]\n",
        "        batch_corr = (predicted == y_train).sum()\n",
        "        trn_corr += batch_corr\n",
        "        \n",
        "        # Update parameters\n",
        "        optimizer.zero_grad()\n",
        "        loss.backward()\n",
        "        optimizer.step()\n",
        "        \n",
        "        # Print interim results\n",
        "        if b%1000 == 0:\n",
        "            print(f'epoch: {i:2}  batch: {b:4} [{10*b:6}/50000]  loss: {loss.item():10.8f}  \\\n",
        "accuracy: {trn_corr.item()*100/(10*b):7.3f}%')\n",
        "        \n",
        "    train_losses.append(loss)\n",
        "    train_correct.append(trn_corr)\n",
        "        \n",
        "    # Run the testing batches\n",
        "    with torch.no_grad():\n",
        "        for b, (X_test, y_test) in enumerate(test_loader):\n",
        "\n",
        "            # Apply the model\n",
        "            y_val = relu_model.forward(X_test)\n",
        "\n",
        "            # Tally the number of correct predictions\n",
        "            predicted = torch.max(y_val.data, 1)[1] \n",
        "            tst_corr += (predicted == y_test).sum()\n",
        "            \n",
        "    loss = criterion(y_val, y_test)\n",
        "    test_losses.append(loss)\n",
        "    test_correct.append(tst_corr)\n",
        "        \n",
        "print(f'\\nDuration: {time.time() - start_time:.0f} seconds') # print the time elapsed  "
      ],
      "metadata": {
        "colab": {
          "base_uri": "https://localhost:8080/"
        },
        "id": "HCJLwVzgSO1w",
        "outputId": "ee572b6d-15f3-45e6-c115-aa93cf96a228"
      },
      "execution_count": 189,
      "outputs": [
        {
          "output_type": "stream",
          "name": "stdout",
          "text": [
            "epoch:  0  batch: 1000 [ 10000/50000]  loss: 1.74091792  accuracy:  24.370%\n",
            "epoch:  0  batch: 2000 [ 20000/50000]  loss: 2.28505325  accuracy:  30.680%\n",
            "epoch:  0  batch: 3000 [ 30000/50000]  loss: 1.41110420  accuracy:  34.463%\n",
            "epoch:  0  batch: 4000 [ 40000/50000]  loss: 1.77556062  accuracy:  37.425%\n",
            "epoch:  0  batch: 5000 [ 50000/50000]  loss: 0.87544328  accuracy:  39.820%\n",
            "epoch:  1  batch: 1000 [ 10000/50000]  loss: 1.40881562  accuracy:  50.940%\n",
            "epoch:  1  batch: 2000 [ 20000/50000]  loss: 1.13322639  accuracy:  51.780%\n",
            "epoch:  1  batch: 3000 [ 30000/50000]  loss: 1.45552599  accuracy:  52.453%\n",
            "epoch:  1  batch: 4000 [ 40000/50000]  loss: 1.10780263  accuracy:  52.767%\n",
            "epoch:  1  batch: 5000 [ 50000/50000]  loss: 1.01513064  accuracy:  53.120%\n",
            "epoch:  2  batch: 1000 [ 10000/50000]  loss: 1.21744430  accuracy:  56.320%\n",
            "epoch:  2  batch: 2000 [ 20000/50000]  loss: 0.94388628  accuracy:  56.850%\n",
            "epoch:  2  batch: 3000 [ 30000/50000]  loss: 1.29108834  accuracy:  56.983%\n",
            "epoch:  2  batch: 4000 [ 40000/50000]  loss: 1.36637890  accuracy:  57.322%\n",
            "epoch:  2  batch: 5000 [ 50000/50000]  loss: 1.00823355  accuracy:  57.618%\n",
            "epoch:  3  batch: 1000 [ 10000/50000]  loss: 1.27289844  accuracy:  59.500%\n",
            "epoch:  3  batch: 2000 [ 20000/50000]  loss: 0.99568701  accuracy:  59.800%\n",
            "epoch:  3  batch: 3000 [ 30000/50000]  loss: 0.67097992  accuracy:  59.923%\n",
            "epoch:  3  batch: 4000 [ 40000/50000]  loss: 1.37756491  accuracy:  60.025%\n",
            "epoch:  3  batch: 5000 [ 50000/50000]  loss: 1.33198154  accuracy:  60.194%\n",
            "epoch:  4  batch: 1000 [ 10000/50000]  loss: 0.77316147  accuracy:  62.680%\n",
            "epoch:  4  batch: 2000 [ 20000/50000]  loss: 0.96285629  accuracy:  62.875%\n",
            "epoch:  4  batch: 3000 [ 30000/50000]  loss: 0.86326140  accuracy:  62.607%\n",
            "epoch:  4  batch: 4000 [ 40000/50000]  loss: 1.16941047  accuracy:  62.693%\n",
            "epoch:  4  batch: 5000 [ 50000/50000]  loss: 2.18257213  accuracy:  62.702%\n",
            "epoch:  5  batch: 1000 [ 10000/50000]  loss: 0.83931684  accuracy:  65.390%\n",
            "epoch:  5  batch: 2000 [ 20000/50000]  loss: 0.45692676  accuracy:  65.075%\n",
            "epoch:  5  batch: 3000 [ 30000/50000]  loss: 1.55596709  accuracy:  64.977%\n",
            "epoch:  5  batch: 4000 [ 40000/50000]  loss: 1.52249289  accuracy:  64.580%\n",
            "epoch:  5  batch: 5000 [ 50000/50000]  loss: 0.77832973  accuracy:  64.466%\n",
            "epoch:  6  batch: 1000 [ 10000/50000]  loss: 0.58171165  accuracy:  67.170%\n",
            "epoch:  6  batch: 2000 [ 20000/50000]  loss: 1.27864909  accuracy:  66.235%\n",
            "epoch:  6  batch: 3000 [ 30000/50000]  loss: 1.22215343  accuracy:  65.833%\n",
            "epoch:  6  batch: 4000 [ 40000/50000]  loss: 0.99015683  accuracy:  65.778%\n",
            "epoch:  6  batch: 5000 [ 50000/50000]  loss: 0.85941613  accuracy:  65.686%\n",
            "epoch:  7  batch: 1000 [ 10000/50000]  loss: 0.88422716  accuracy:  67.570%\n",
            "epoch:  7  batch: 2000 [ 20000/50000]  loss: 1.56418681  accuracy:  67.370%\n",
            "epoch:  7  batch: 3000 [ 30000/50000]  loss: 1.14219129  accuracy:  67.263%\n",
            "epoch:  7  batch: 4000 [ 40000/50000]  loss: 0.67993647  accuracy:  67.020%\n",
            "epoch:  7  batch: 5000 [ 50000/50000]  loss: 0.89945662  accuracy:  67.076%\n",
            "epoch:  8  batch: 1000 [ 10000/50000]  loss: 0.80203950  accuracy:  68.150%\n",
            "epoch:  8  batch: 2000 [ 20000/50000]  loss: 0.97332305  accuracy:  68.140%\n",
            "epoch:  8  batch: 3000 [ 30000/50000]  loss: 1.23693681  accuracy:  68.017%\n",
            "epoch:  8  batch: 4000 [ 40000/50000]  loss: 0.73578262  accuracy:  68.032%\n",
            "epoch:  8  batch: 5000 [ 50000/50000]  loss: 0.46964207  accuracy:  67.960%\n",
            "epoch:  9  batch: 1000 [ 10000/50000]  loss: 2.03283572  accuracy:  70.690%\n",
            "epoch:  9  batch: 2000 [ 20000/50000]  loss: 0.26118031  accuracy:  69.630%\n",
            "epoch:  9  batch: 3000 [ 30000/50000]  loss: 1.27609515  accuracy:  69.523%\n",
            "epoch:  9  batch: 4000 [ 40000/50000]  loss: 0.99766606  accuracy:  69.157%\n",
            "epoch:  9  batch: 5000 [ 50000/50000]  loss: 0.72483909  accuracy:  69.090%\n",
            "\n",
            "Duration: 344 seconds\n"
          ]
        }
      ]
    },
    {
      "cell_type": "code",
      "source": [
        "plt.plot(train_losses, label='training loss')\n",
        "plt.plot(test_losses, label='validation loss')\n",
        "plt.title('Loss at the end of each epoch (RELU)')\n",
        "plt.legend();"
      ],
      "metadata": {
        "id": "lc-6hrWIToxT",
        "colab": {
          "base_uri": "https://localhost:8080/",
          "height": 281
        },
        "outputId": "feccbad5-8403-4803-f25a-c6f8d1045b32"
      },
      "execution_count": 227,
      "outputs": [
        {
          "output_type": "display_data",
          "data": {
            "text/plain": [
              "<Figure size 432x288 with 1 Axes>"
            ],
            "image/png": "[encoded data removed]"
          },
          "metadata": {
            "needs_background": "light"
          }
        }
      ]
    },
    {
      "cell_type": "markdown",
      "source": [
        "# Sigmoid"
      ],
      "metadata": {
        "id": "HceYF41UmDxg"
      }
    },
    {
      "cell_type": "code",
      "source": [
        "class CNN_Sigmoid(nn.Module):\n",
        "    def __init__(self):\n",
        "        super().__init__()\n",
        "        self.conv1 = nn.Conv2d(3, 6, 3, 1) \n",
        "        self.conv2 = nn.Conv2d(6, 16, 3, 1)\n",
        "        self.fc1 = nn.Linear(6*6*16, 120)  \n",
        "        self.fc2 = nn.Linear(120,84)\n",
        "        self.fc3 = nn.Linear(84,10)\n",
        "\n",
        "    def forward(self, X):\n",
        "        X = F.sigmoid(self.conv1(X))\n",
        "        X = F.max_pool2d(X, 2, 2)\n",
        "        X = F.sigmoid(self.conv2(X))\n",
        "        X = F.max_pool2d(X, 2, 2)\n",
        "        X = X.view(-1, 6*6*16)\n",
        "        X = F.sigmoid(self.fc1(X))\n",
        "        X = F.sigmoid(self.fc2(X))\n",
        "        X = self.fc3(X)\n",
        "        return F.log_softmax(X, dim=1)"
      ],
      "metadata": {
        "id": "AZAQ7FtymCqL"
      },
      "execution_count": 193,
      "outputs": []
    },
    {
      "cell_type": "code",
      "source": [
        "sigmoid_model = CNN_Sigmoid()\n",
        "criterion = nn.CrossEntropyLoss()\n",
        "optimizer = torch.optim.Adam(sigmoid_model.parameters(), lr=0.001)"
      ],
      "metadata": {
        "id": "V82FH3Cxl69E"
      },
      "execution_count": 195,
      "outputs": []
    },
    {
      "cell_type": "code",
      "source": [
        "import time\n",
        "start_time = time.time()\n",
        "\n",
        "epochs = 10\n",
        "train_losses = []\n",
        "test_losses = []\n",
        "train_correct = []\n",
        "test_correct = []\n",
        "\n",
        "for i in range(epochs):\n",
        "    trn_corr = 0\n",
        "    tst_corr = 0\n",
        "    \n",
        "    # Run the training batches\n",
        "    for b, (X_train, y_train) in enumerate(train_loader):\n",
        "        b+=1\n",
        "        \n",
        "        # Apply the model\n",
        "        y_pred = sigmoid_model.forward(X_train)\n",
        "        loss = criterion(y_pred, y_train)\n",
        " \n",
        "        # Tally the number of correct predictions\n",
        "        predicted = torch.max(y_pred.data, 1)[1]\n",
        "        batch_corr = (predicted == y_train).sum()\n",
        "        trn_corr += batch_corr\n",
        "        \n",
        "        # Update parameters\n",
        "        optimizer.zero_grad()\n",
        "        loss.backward()\n",
        "        optimizer.step()\n",
        "        \n",
        "        # Print interim results\n",
        "        if b%1000 == 0:\n",
        "            print(f'epoch: {i:2}  batch: {b:4} [{10*b:6}/50000]  loss: {loss.item():10.8f}  \\\n",
        "accuracy: {trn_corr.item()*100/(10*b):7.3f}%')\n",
        "        \n",
        "    train_losses.append(loss.tolist())\n",
        "    train_correct.append(trn_corr.tolist())\n",
        "        \n",
        "    # Run the testing batches\n",
        "    with torch.no_grad():\n",
        "        for b, (X_test, y_test) in enumerate(test_loader):\n",
        "\n",
        "            # Apply the model\n",
        "            y_val = sigmoid_model.forward(X_test)\n",
        "\n",
        "            # Tally the number of correct predictions\n",
        "            predicted = torch.max(y_val.data, 1)[1] \n",
        "            tst_corr += (predicted == y_test).sum()\n",
        "            \n",
        "    loss = criterion(y_val, y_test)\n",
        "    test_losses.append(loss.tolist())\n",
        "    test_correct.append(tst_corr.tolist())\n",
        "        \n",
        "print(f'\\nDuration: {time.time() - start_time:.0f} seconds') # print the time elapsed  "
      ],
      "metadata": {
        "colab": {
          "base_uri": "https://localhost:8080/"
        },
        "id": "nGl4yF0Jl1yQ",
        "outputId": "6a5215e4-b8f3-4ec4-9d66-51a62c81f85e"
      },
      "execution_count": 196,
      "outputs": [
        {
          "output_type": "stream",
          "name": "stderr",
          "text": [
            "/usr/local/lib/python3.9/dist-packages/torch/nn/functional.py:1967: UserWarning: nn.functional.sigmoid is deprecated. Use torch.sigmoid instead.\n",
            "  warnings.warn(\"nn.functional.sigmoid is deprecated. Use torch.sigmoid instead.\")\n"
          ]
        },
        {
          "output_type": "stream",
          "name": "stdout",
          "text": [
            "epoch:  0  batch: 1000 [ 10000/50000]  loss: 1.86044431  accuracy:  13.430%\n",
            "epoch:  0  batch: 2000 [ 20000/50000]  loss: 2.08329201  accuracy:  16.415%\n",
            "epoch:  0  batch: 3000 [ 30000/50000]  loss: 2.06574464  accuracy:  18.630%\n",
            "epoch:  0  batch: 4000 [ 40000/50000]  loss: 2.25300908  accuracy:  19.915%\n",
            "epoch:  0  batch: 5000 [ 50000/50000]  loss: 1.67019403  accuracy:  21.048%\n",
            "epoch:  1  batch: 1000 [ 10000/50000]  loss: 2.09849763  accuracy:  25.940%\n",
            "epoch:  1  batch: 2000 [ 20000/50000]  loss: 2.02306056  accuracy:  26.135%\n",
            "epoch:  1  batch: 3000 [ 30000/50000]  loss: 1.97460115  accuracy:  26.717%\n",
            "epoch:  1  batch: 4000 [ 40000/50000]  loss: 1.92280602  accuracy:  26.902%\n",
            "epoch:  1  batch: 5000 [ 50000/50000]  loss: 1.73729289  accuracy:  27.298%\n",
            "epoch:  2  batch: 1000 [ 10000/50000]  loss: 1.76569438  accuracy:  29.520%\n",
            "epoch:  2  batch: 2000 [ 20000/50000]  loss: 1.97002661  accuracy:  29.900%\n",
            "epoch:  2  batch: 3000 [ 30000/50000]  loss: 2.19949794  accuracy:  30.277%\n",
            "epoch:  2  batch: 4000 [ 40000/50000]  loss: 2.24436426  accuracy:  30.865%\n",
            "epoch:  2  batch: 5000 [ 50000/50000]  loss: 1.78700161  accuracy:  31.428%\n",
            "epoch:  3  batch: 1000 [ 10000/50000]  loss: 1.80807817  accuracy:  35.240%\n",
            "epoch:  3  batch: 2000 [ 20000/50000]  loss: 1.75595891  accuracy:  35.915%\n",
            "epoch:  3  batch: 3000 [ 30000/50000]  loss: 1.09583247  accuracy:  36.163%\n",
            "epoch:  3  batch: 4000 [ 40000/50000]  loss: 1.87154424  accuracy:  36.907%\n",
            "epoch:  3  batch: 5000 [ 50000/50000]  loss: 2.00371194  accuracy:  37.238%\n",
            "epoch:  4  batch: 1000 [ 10000/50000]  loss: 1.72539747  accuracy:  39.850%\n",
            "epoch:  4  batch: 2000 [ 20000/50000]  loss: 1.62700653  accuracy:  40.010%\n",
            "epoch:  4  batch: 3000 [ 30000/50000]  loss: 1.73439562  accuracy:  40.337%\n",
            "epoch:  4  batch: 4000 [ 40000/50000]  loss: 1.34109676  accuracy:  40.572%\n",
            "epoch:  4  batch: 5000 [ 50000/50000]  loss: 2.06604910  accuracy:  40.634%\n",
            "epoch:  5  batch: 1000 [ 10000/50000]  loss: 1.40109992  accuracy:  43.330%\n",
            "epoch:  5  batch: 2000 [ 20000/50000]  loss: 1.11004245  accuracy:  43.160%\n",
            "epoch:  5  batch: 3000 [ 30000/50000]  loss: 1.61485267  accuracy:  43.040%\n",
            "epoch:  5  batch: 4000 [ 40000/50000]  loss: 1.54860020  accuracy:  43.002%\n",
            "epoch:  5  batch: 5000 [ 50000/50000]  loss: 1.67909014  accuracy:  43.084%\n",
            "epoch:  6  batch: 1000 [ 10000/50000]  loss: 1.88794041  accuracy:  44.340%\n",
            "epoch:  6  batch: 2000 [ 20000/50000]  loss: 1.39901972  accuracy:  44.765%\n",
            "epoch:  6  batch: 3000 [ 30000/50000]  loss: 1.43601525  accuracy:  45.050%\n",
            "epoch:  6  batch: 4000 [ 40000/50000]  loss: 0.91429597  accuracy:  45.178%\n",
            "epoch:  6  batch: 5000 [ 50000/50000]  loss: 1.62138689  accuracy:  45.254%\n",
            "epoch:  7  batch: 1000 [ 10000/50000]  loss: 1.06272006  accuracy:  46.250%\n",
            "epoch:  7  batch: 2000 [ 20000/50000]  loss: 1.60870612  accuracy:  46.580%\n",
            "epoch:  7  batch: 3000 [ 30000/50000]  loss: 1.40682030  accuracy:  46.730%\n",
            "epoch:  7  batch: 4000 [ 40000/50000]  loss: 1.45316410  accuracy:  47.075%\n",
            "epoch:  7  batch: 5000 [ 50000/50000]  loss: 1.36491513  accuracy:  47.322%\n",
            "epoch:  8  batch: 1000 [ 10000/50000]  loss: 1.31770396  accuracy:  48.240%\n",
            "epoch:  8  batch: 2000 [ 20000/50000]  loss: 1.63614440  accuracy:  48.930%\n",
            "epoch:  8  batch: 3000 [ 30000/50000]  loss: 0.86993921  accuracy:  49.460%\n",
            "epoch:  8  batch: 4000 [ 40000/50000]  loss: 1.31659758  accuracy:  49.450%\n",
            "epoch:  8  batch: 5000 [ 50000/50000]  loss: 1.68832052  accuracy:  49.362%\n",
            "epoch:  9  batch: 1000 [ 10000/50000]  loss: 1.70441377  accuracy:  51.810%\n",
            "epoch:  9  batch: 2000 [ 20000/50000]  loss: 0.66458762  accuracy:  51.535%\n",
            "epoch:  9  batch: 3000 [ 30000/50000]  loss: 1.66700959  accuracy:  51.327%\n",
            "epoch:  9  batch: 4000 [ 40000/50000]  loss: 0.72564816  accuracy:  51.390%\n",
            "epoch:  9  batch: 5000 [ 50000/50000]  loss: 1.20071411  accuracy:  51.460%\n",
            "\n",
            "Duration: 332 seconds\n"
          ]
        }
      ]
    },
    {
      "cell_type": "code",
      "source": [
        "# train_losses= [ loss.detach().numpy() for loss in train_losses]\n",
        "# test_losses= [ loss.detach().numpy() for loss in test_losses]\n",
        "# relu_acc = \n",
        "plt.plot(train_losses, label='training loss')\n",
        "plt.plot(test_losses, label='validation loss')\n",
        "plt.title('Loss at the end of each epoch (Sigmoid)')\n",
        "plt.legend();"
      ],
      "metadata": {
        "colab": {
          "base_uri": "https://localhost:8080/",
          "height": 281
        },
        "id": "h-tFtCr9mwbA",
        "outputId": "4df04b0d-7ee8-4b7d-f6ef-132c681805c8"
      },
      "execution_count": 226,
      "outputs": [
        {
          "output_type": "display_data",
          "data": {
            "text/plain": [
              "<Figure size 432x288 with 1 Axes>"
            ],
            "image/png": "[encoded data removed]"
          },
          "metadata": {
            "needs_background": "light"
          }
        }
      ]
    },
    {
      "cell_type": "code",
      "source": [
        "class ModelSoup(nn.Module):\n",
        "  def __init__(self, model1, model2):\n",
        "        super(ModelSoup, self).__init__()\n",
        "        self.model1 = model1\n",
        "        self.model2 = model2\n",
        "\n",
        "  def forward(self, x):\n",
        "      output1 = self.model1.forward(x)\n",
        "      accuracy1 = 69.090\n",
        "      output2 = self.model2.forward(x)\n",
        "      accuracy2 = 51.460\n",
        "      output = output1 * accuracy1/(accuracy1 + accuracy2)\n",
        "      output += output2 * accuracy2/(accuracy1 + accuracy2)\n",
        "      return output"
      ],
      "metadata": {
        "id": "MpuG8Auumzw2"
      },
      "execution_count": 199,
      "outputs": []
    },
    {
      "cell_type": "code",
      "source": [
        "model_soup = ModelSoup(relu_model, sigmoid_model)\n",
        "criterion = nn.CrossEntropyLoss()\n",
        "optimizer = torch.optim.Adam(model_soup.parameters(), lr=0.001)"
      ],
      "metadata": {
        "id": "P2639AFXm68u"
      },
      "execution_count": 200,
      "outputs": []
    },
    {
      "cell_type": "code",
      "source": [
        "import time\n",
        "start_time = time.time()\n",
        "\n",
        "epochs = 10\n",
        "train_losses = []\n",
        "test_losses = []\n",
        "train_correct = []\n",
        "test_correct = []\n",
        "\n",
        "for i in range(epochs):\n",
        "    trn_corr = 0\n",
        "    tst_corr = 0\n",
        "    \n",
        "    # Run the training batches\n",
        "    for b, (X_train, y_train) in enumerate(train_loader):\n",
        "        b+=1\n",
        "        \n",
        "        # Apply the model\n",
        "        y_pred = model_soup.forward(X_train)\n",
        "        loss = criterion(y_pred, y_train)\n",
        " \n",
        "        # Tally the number of correct predictions\n",
        "        predicted = torch.max(y_pred.data, 1)[1]\n",
        "        batch_corr = (predicted == y_train).sum()\n",
        "        trn_corr += batch_corr\n",
        "        \n",
        "        # Update parameters\n",
        "        optimizer.zero_grad()\n",
        "        loss.backward()\n",
        "        optimizer.step()\n",
        "        \n",
        "        # Print interim results\n",
        "        if b%1000 == 0:\n",
        "            print(f'epoch: {i:2}  batch: {b:4} [{10*b:6}/50000]  loss: {loss.item():10.8f}  \\\n",
        "accuracy: {trn_corr.item()*100/(10*b):7.3f}%')\n",
        "        \n",
        "    train_losses.append(loss.tolist())\n",
        "    train_correct.append(trn_corr.tolist())\n",
        "        \n",
        "    # Run the testing batches\n",
        "    with torch.no_grad():\n",
        "        for b, (X_test, y_test) in enumerate(test_loader):\n",
        "\n",
        "            # Apply the model\n",
        "            y_val = model_soup.forward(X_test)\n",
        "\n",
        "            # Tally the number of correct predictions\n",
        "            predicted = torch.max(y_val.data, 1)[1] \n",
        "            tst_corr += (predicted == y_test).sum()\n",
        "            \n",
        "    loss = criterion(y_val, y_test)\n",
        "    test_losses.append(loss.tolist())\n",
        "    test_correct.append(tst_corr.tolist())\n",
        "        \n",
        "print(f'\\nDuration: {time.time() - start_time:.0f} seconds') # print the time elapsed "
      ],
      "metadata": {
        "colab": {
          "base_uri": "https://localhost:8080/"
        },
        "id": "sZDWmvxqqfCN",
        "outputId": "af53b391-a78d-4c0e-cf9a-007a1249443f"
      },
      "execution_count": 202,
      "outputs": [
        {
          "output_type": "stream",
          "name": "stdout",
          "text": [
            "epoch:  0  batch: 1000 [ 10000/50000]  loss: 1.53384483  accuracy:  67.730%\n",
            "epoch:  0  batch: 2000 [ 20000/50000]  loss: 0.39918008  accuracy:  68.585%\n",
            "epoch:  0  batch: 3000 [ 30000/50000]  loss: 0.67139512  accuracy:  69.213%\n",
            "epoch:  0  batch: 4000 [ 40000/50000]  loss: 0.70557898  accuracy:  69.418%\n",
            "epoch:  0  batch: 5000 [ 50000/50000]  loss: 1.26604664  accuracy:  69.706%\n",
            "epoch:  1  batch: 1000 [ 10000/50000]  loss: 0.41847950  accuracy:  72.980%\n",
            "epoch:  1  batch: 2000 [ 20000/50000]  loss: 0.41607922  accuracy:  72.595%\n",
            "epoch:  1  batch: 3000 [ 30000/50000]  loss: 0.56325877  accuracy:  72.697%\n",
            "epoch:  1  batch: 4000 [ 40000/50000]  loss: 1.20650649  accuracy:  72.325%\n",
            "epoch:  1  batch: 5000 [ 50000/50000]  loss: 0.85625064  accuracy:  72.172%\n",
            "epoch:  2  batch: 1000 [ 10000/50000]  loss: 0.58990568  accuracy:  74.180%\n",
            "epoch:  2  batch: 2000 [ 20000/50000]  loss: 0.35909674  accuracy:  73.915%\n",
            "epoch:  2  batch: 3000 [ 30000/50000]  loss: 0.42125162  accuracy:  73.530%\n",
            "epoch:  2  batch: 4000 [ 40000/50000]  loss: 0.71071446  accuracy:  73.525%\n",
            "epoch:  2  batch: 5000 [ 50000/50000]  loss: 0.79867017  accuracy:  73.294%\n",
            "epoch:  3  batch: 1000 [ 10000/50000]  loss: 0.59308749  accuracy:  76.410%\n",
            "epoch:  3  batch: 2000 [ 20000/50000]  loss: 0.69804269  accuracy:  75.310%\n",
            "epoch:  3  batch: 3000 [ 30000/50000]  loss: 1.02921176  accuracy:  75.057%\n",
            "epoch:  3  batch: 4000 [ 40000/50000]  loss: 0.46430612  accuracy:  74.787%\n",
            "epoch:  3  batch: 5000 [ 50000/50000]  loss: 0.81502950  accuracy:  74.510%\n",
            "epoch:  4  batch: 1000 [ 10000/50000]  loss: 0.51283282  accuracy:  76.690%\n",
            "epoch:  4  batch: 2000 [ 20000/50000]  loss: 1.05130649  accuracy:  76.250%\n",
            "epoch:  4  batch: 3000 [ 30000/50000]  loss: 0.43343121  accuracy:  75.797%\n",
            "epoch:  4  batch: 4000 [ 40000/50000]  loss: 0.76728117  accuracy:  75.560%\n",
            "epoch:  4  batch: 5000 [ 50000/50000]  loss: 0.72321105  accuracy:  75.394%\n",
            "epoch:  5  batch: 1000 [ 10000/50000]  loss: 0.68613827  accuracy:  78.190%\n",
            "epoch:  5  batch: 2000 [ 20000/50000]  loss: 0.77351868  accuracy:  77.590%\n",
            "epoch:  5  batch: 3000 [ 30000/50000]  loss: 1.05058718  accuracy:  77.037%\n",
            "epoch:  5  batch: 4000 [ 40000/50000]  loss: 1.12908721  accuracy:  76.772%\n",
            "epoch:  5  batch: 5000 [ 50000/50000]  loss: 1.18209136  accuracy:  76.486%\n",
            "epoch:  6  batch: 1000 [ 10000/50000]  loss: 0.69013035  accuracy:  78.360%\n",
            "epoch:  6  batch: 2000 [ 20000/50000]  loss: 1.25777996  accuracy:  78.150%\n",
            "epoch:  6  batch: 3000 [ 30000/50000]  loss: 0.43641025  accuracy:  77.927%\n",
            "epoch:  6  batch: 4000 [ 40000/50000]  loss: 0.68848407  accuracy:  77.752%\n",
            "epoch:  6  batch: 5000 [ 50000/50000]  loss: 0.91517752  accuracy:  77.502%\n",
            "epoch:  7  batch: 1000 [ 10000/50000]  loss: 0.42685977  accuracy:  79.950%\n",
            "epoch:  7  batch: 2000 [ 20000/50000]  loss: 0.61443031  accuracy:  79.130%\n",
            "epoch:  7  batch: 3000 [ 30000/50000]  loss: 0.31433517  accuracy:  78.777%\n",
            "epoch:  7  batch: 4000 [ 40000/50000]  loss: 0.34118906  accuracy:  78.567%\n",
            "epoch:  7  batch: 5000 [ 50000/50000]  loss: 0.24131095  accuracy:  78.418%\n",
            "epoch:  8  batch: 1000 [ 10000/50000]  loss: 0.24647287  accuracy:  80.880%\n",
            "epoch:  8  batch: 2000 [ 20000/50000]  loss: 0.25603956  accuracy:  80.190%\n",
            "epoch:  8  batch: 3000 [ 30000/50000]  loss: 0.52098608  accuracy:  79.950%\n",
            "epoch:  8  batch: 4000 [ 40000/50000]  loss: 0.88991916  accuracy:  79.493%\n",
            "epoch:  8  batch: 5000 [ 50000/50000]  loss: 0.09266986  accuracy:  79.348%\n",
            "epoch:  9  batch: 1000 [ 10000/50000]  loss: 0.42344421  accuracy:  82.350%\n",
            "epoch:  9  batch: 2000 [ 20000/50000]  loss: 0.74928385  accuracy:  81.340%\n",
            "epoch:  9  batch: 3000 [ 30000/50000]  loss: 1.09789836  accuracy:  80.787%\n",
            "epoch:  9  batch: 4000 [ 40000/50000]  loss: 1.29965794  accuracy:  80.412%\n",
            "epoch:  9  batch: 5000 [ 50000/50000]  loss: 0.51315027  accuracy:  80.158%\n",
            "\n",
            "Duration: 495 seconds\n"
          ]
        }
      ]
    },
    {
      "cell_type": "code",
      "source": [
        "plt.plot(train_losses, label='training loss')\n",
        "plt.plot(test_losses, label='validation loss')\n",
        "plt.title('Loss at the end of each epoch (Model Soup)')\n",
        "plt.legend();"
      ],
      "metadata": {
        "colab": {
          "base_uri": "https://localhost:8080/",
          "height": 281
        },
        "id": "sGC_56_-uAIv",
        "outputId": "30fba7de-7a2a-4463-eaa2-631d82e37c8a"
      },
      "execution_count": 224,
      "outputs": [
        {
          "output_type": "display_data",
          "data": {
            "text/plain": [
              "<Figure size 432x288 with 1 Axes>"
            ],
            "image/png": "[encoded data removed]"
          },
          "metadata": {
            "needs_background": "light"
          }
        }
      ]
    }
  ]
}